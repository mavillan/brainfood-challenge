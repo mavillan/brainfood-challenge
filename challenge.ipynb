{
 "cells": [
  {
   "cell_type": "markdown",
   "metadata": {},
   "source": [
    "## Challenge\n",
    "\n",
    "Las preguntas son las siguientes: \n",
    "1.\t¿Qué cervecería produce la cerveza más fuerte según ABV? \n",
    "2.\t¿Cuál de los factores (aroma, taste, apperance, palette) es más importante para determinar la calidad general de una cerveza? \n",
    "3.\t¿Si tuviera que elegir 3 cervezas para recomendar usando sólo estos datos, cuáles elegiría? \n",
    "\n",
    "4.\t¿Si yo típicamente disfruto una cerveza debido a su aroma y apariencia, qué estilo de cerveza debería probar? \n",
    "\n",
    "__Nota:__ Cambie de orden la pregunta 2. con la 3. (tal como me la enviaron), pues uso los resultados de la pregunta 2. para resolver la 3."
   ]
  },
  {
   "cell_type": "code",
   "execution_count": 1,
   "metadata": {},
   "outputs": [],
   "source": [
    "import numpy as np\n",
    "import pandas as pd\n",
    "import matplotlib.pyplot as plt"
   ]
  },
  {
   "cell_type": "markdown",
   "metadata": {},
   "source": [
    "## Inspeccionando el dataset"
   ]
  },
  {
   "cell_type": "code",
   "execution_count": 2,
   "metadata": {},
   "outputs": [
    {
     "name": "stdout",
     "output_type": "stream",
     "text": [
      "LICENSE          README.md        beer_reviews.csv challenge.ipynb\r\n"
     ]
    }
   ],
   "source": [
    "!ls"
   ]
  },
  {
   "cell_type": "code",
   "execution_count": 3,
   "metadata": {},
   "outputs": [],
   "source": [
    "df = pd.read_csv(\"beer_reviews.csv\")"
   ]
  },
  {
   "cell_type": "code",
   "execution_count": 4,
   "metadata": {},
   "outputs": [
    {
     "data": {
      "text/html": [
       "<div>\n",
       "<style scoped>\n",
       "    .dataframe tbody tr th:only-of-type {\n",
       "        vertical-align: middle;\n",
       "    }\n",
       "\n",
       "    .dataframe tbody tr th {\n",
       "        vertical-align: top;\n",
       "    }\n",
       "\n",
       "    .dataframe thead th {\n",
       "        text-align: right;\n",
       "    }\n",
       "</style>\n",
       "<table border=\"1\" class=\"dataframe\">\n",
       "  <thead>\n",
       "    <tr style=\"text-align: right;\">\n",
       "      <th></th>\n",
       "      <th>brewery_id</th>\n",
       "      <th>brewery_name</th>\n",
       "      <th>review_time</th>\n",
       "      <th>review_overall</th>\n",
       "      <th>review_aroma</th>\n",
       "      <th>review_appearance</th>\n",
       "      <th>review_profilename</th>\n",
       "      <th>beer_style</th>\n",
       "      <th>review_palate</th>\n",
       "      <th>review_taste</th>\n",
       "      <th>beer_name</th>\n",
       "      <th>beer_abv</th>\n",
       "      <th>beer_beerid</th>\n",
       "    </tr>\n",
       "  </thead>\n",
       "  <tbody>\n",
       "    <tr>\n",
       "      <th>0</th>\n",
       "      <td>10325</td>\n",
       "      <td>Vecchio Birraio</td>\n",
       "      <td>1234817823</td>\n",
       "      <td>1.5</td>\n",
       "      <td>2.0</td>\n",
       "      <td>2.5</td>\n",
       "      <td>stcules</td>\n",
       "      <td>Hefeweizen</td>\n",
       "      <td>1.5</td>\n",
       "      <td>1.5</td>\n",
       "      <td>Sausa Weizen</td>\n",
       "      <td>5.0</td>\n",
       "      <td>47986</td>\n",
       "    </tr>\n",
       "    <tr>\n",
       "      <th>1</th>\n",
       "      <td>10325</td>\n",
       "      <td>Vecchio Birraio</td>\n",
       "      <td>1235915097</td>\n",
       "      <td>3.0</td>\n",
       "      <td>2.5</td>\n",
       "      <td>3.0</td>\n",
       "      <td>stcules</td>\n",
       "      <td>English Strong Ale</td>\n",
       "      <td>3.0</td>\n",
       "      <td>3.0</td>\n",
       "      <td>Red Moon</td>\n",
       "      <td>6.2</td>\n",
       "      <td>48213</td>\n",
       "    </tr>\n",
       "    <tr>\n",
       "      <th>2</th>\n",
       "      <td>10325</td>\n",
       "      <td>Vecchio Birraio</td>\n",
       "      <td>1235916604</td>\n",
       "      <td>3.0</td>\n",
       "      <td>2.5</td>\n",
       "      <td>3.0</td>\n",
       "      <td>stcules</td>\n",
       "      <td>Foreign / Export Stout</td>\n",
       "      <td>3.0</td>\n",
       "      <td>3.0</td>\n",
       "      <td>Black Horse Black Beer</td>\n",
       "      <td>6.5</td>\n",
       "      <td>48215</td>\n",
       "    </tr>\n",
       "    <tr>\n",
       "      <th>3</th>\n",
       "      <td>10325</td>\n",
       "      <td>Vecchio Birraio</td>\n",
       "      <td>1234725145</td>\n",
       "      <td>3.0</td>\n",
       "      <td>3.0</td>\n",
       "      <td>3.5</td>\n",
       "      <td>stcules</td>\n",
       "      <td>German Pilsener</td>\n",
       "      <td>2.5</td>\n",
       "      <td>3.0</td>\n",
       "      <td>Sausa Pils</td>\n",
       "      <td>5.0</td>\n",
       "      <td>47969</td>\n",
       "    </tr>\n",
       "    <tr>\n",
       "      <th>4</th>\n",
       "      <td>1075</td>\n",
       "      <td>Caldera Brewing Company</td>\n",
       "      <td>1293735206</td>\n",
       "      <td>4.0</td>\n",
       "      <td>4.5</td>\n",
       "      <td>4.0</td>\n",
       "      <td>johnmichaelsen</td>\n",
       "      <td>American Double / Imperial IPA</td>\n",
       "      <td>4.0</td>\n",
       "      <td>4.5</td>\n",
       "      <td>Cauldron DIPA</td>\n",
       "      <td>7.7</td>\n",
       "      <td>64883</td>\n",
       "    </tr>\n",
       "  </tbody>\n",
       "</table>\n",
       "</div>"
      ],
      "text/plain": [
       "   brewery_id             brewery_name  review_time  review_overall  \\\n",
       "0       10325          Vecchio Birraio   1234817823             1.5   \n",
       "1       10325          Vecchio Birraio   1235915097             3.0   \n",
       "2       10325          Vecchio Birraio   1235916604             3.0   \n",
       "3       10325          Vecchio Birraio   1234725145             3.0   \n",
       "4        1075  Caldera Brewing Company   1293735206             4.0   \n",
       "\n",
       "   review_aroma  review_appearance review_profilename  \\\n",
       "0           2.0                2.5            stcules   \n",
       "1           2.5                3.0            stcules   \n",
       "2           2.5                3.0            stcules   \n",
       "3           3.0                3.5            stcules   \n",
       "4           4.5                4.0     johnmichaelsen   \n",
       "\n",
       "                       beer_style  review_palate  review_taste  \\\n",
       "0                      Hefeweizen            1.5           1.5   \n",
       "1              English Strong Ale            3.0           3.0   \n",
       "2          Foreign / Export Stout            3.0           3.0   \n",
       "3                 German Pilsener            2.5           3.0   \n",
       "4  American Double / Imperial IPA            4.0           4.5   \n",
       "\n",
       "                beer_name  beer_abv  beer_beerid  \n",
       "0            Sausa Weizen       5.0        47986  \n",
       "1                Red Moon       6.2        48213  \n",
       "2  Black Horse Black Beer       6.5        48215  \n",
       "3              Sausa Pils       5.0        47969  \n",
       "4           Cauldron DIPA       7.7        64883  "
      ]
     },
     "execution_count": 4,
     "metadata": {},
     "output_type": "execute_result"
    }
   ],
   "source": [
    "df.head()"
   ]
  },
  {
   "cell_type": "code",
   "execution_count": 5,
   "metadata": {},
   "outputs": [
    {
     "name": "stdout",
     "output_type": "stream",
     "text": [
      "Cantidad de datos: 1586614\n",
      "Cantidad de columnas: 13\n"
     ]
    }
   ],
   "source": [
    "print(\"Cantidad de datos:\",df.shape[0])\n",
    "print(\"Cantidad de columnas:\",df.shape[1])"
   ]
  },
  {
   "cell_type": "code",
   "execution_count": 6,
   "metadata": {},
   "outputs": [
    {
     "data": {
      "text/plain": [
       "brewery_id              int64\n",
       "brewery_name           object\n",
       "review_time             int64\n",
       "review_overall        float64\n",
       "review_aroma          float64\n",
       "review_appearance     float64\n",
       "review_profilename     object\n",
       "beer_style             object\n",
       "review_palate         float64\n",
       "review_taste          float64\n",
       "beer_name              object\n",
       "beer_abv              float64\n",
       "beer_beerid             int64\n",
       "dtype: object"
      ]
     },
     "execution_count": 6,
     "metadata": {},
     "output_type": "execute_result"
    }
   ],
   "source": [
    "# dtypes of attributes\n",
    "df.dtypes"
   ]
  },
  {
   "cell_type": "markdown",
   "metadata": {},
   "source": [
    "Notamos que hay cervezas que se encuentran repetidas, es decir, tienen más de un registro hecho por distintos _reviewers_ y en distintos tiempos."
   ]
  },
  {
   "cell_type": "code",
   "execution_count": 36,
   "metadata": {},
   "outputs": [
    {
     "data": {
      "text/plain": [
       "90 Minute IPA                                   3290\n",
       "India Pale Ale                                  3130\n",
       "Old Rasputin Russian Imperial Stout             3111\n",
       "Sierra Nevada Celebration Ale                   3000\n",
       "Two Hearted Ale                                 2728\n",
       "Arrogant Bastard Ale                            2704\n",
       "Stone Ruination IPA                             2704\n",
       "Sierra Nevada Pale Ale                          2587\n",
       "Stone IPA (India Pale Ale)                      2575\n",
       "Pliny The Elder                                 2527\n",
       "Founders Breakfast Stout                        2502\n",
       "Pale Ale                                        2500\n",
       "Sierra Nevada Bigfoot Barleywine Style Ale      2492\n",
       "La Fin Du Monde                                 2483\n",
       "60 Minute IPA                                   2475\n",
       "Storm King Stout                                2452\n",
       "Duvel                                           2450\n",
       "Brooklyn Black Chocolate Stout                  2447\n",
       "Bell's Hopslam Ale                              2443\n",
       "Samuel Adams Boston Lager                       2418\n",
       "Stone Imperial Russian Stout                    2329\n",
       "HopDevil Ale                                    2302\n",
       "Chocolate Stout                                 2292\n",
       "Imperial Stout                                  2273\n",
       "Young's Double Chocolate Stout                  2257\n",
       "Dead Guy Ale                                    2234\n",
       "St. Bernardus Abt 12                            2217\n",
       "Guinness Draught                                2210\n",
       "Trappistes Rochefort 10                         2170\n",
       "Ayinger Celebrator Doppelbock                   2070\n",
       "                                                ... \n",
       "Black Turtle Dark                                  1\n",
       "Bottle Wreck Porter                                1\n",
       "Carburetor Rye Doppelbock #58                      1\n",
       "Nelson Bays Exclamator Nelson Doppelbock           1\n",
       "McKinney Eddy Amber Ale                            1\n",
       "Foggy Loggy Lager, Barrel Aged                     1\n",
       "Dult Maerzen                                       1\n",
       "Faerie Bridge                                      1\n",
       "Svaneke Session Pilsner                            1\n",
       "Summer's Gone Saison                               1\n",
       "Oxymore Periple En La Demeure                      1\n",
       "Le Marteau Rouge                                   1\n",
       "Tsar's Crown Brown                                 1\n",
       "Munich Helles Lager                                1\n",
       "Bas Bruns Bob                                      1\n",
       "Otter Creek Oak Aged Imperial India Pale Ale       1\n",
       "Shylock Maibock                                    1\n",
       "Stoney Creek Lager                                 1\n",
       "Indiana Landmarks Wit                              1\n",
       "Cherry Kristall                                    1\n",
       "Gasthaus Pils                                      1\n",
       "Chipotle Wheat                                     1\n",
       "Sin City                                           1\n",
       "Kristallweizen                                     1\n",
       "Seco Stout                                         1\n",
       "Engine Coffee Porter                               1\n",
       "Double Cinder Cone Red                             1\n",
       "Billabong Brew                                     1\n",
       "Shark Attack                                       1\n",
       "Old School Oktoberfest                             1\n",
       "Name: beer_name, Length: 56857, dtype: int64"
      ]
     },
     "execution_count": 36,
     "metadata": {},
     "output_type": "execute_result"
    }
   ],
   "source": [
    "# cantidad de tipos de cervezas\n",
    "df[\"beer_name\"].value_counts()"
   ]
  },
  {
   "cell_type": "markdown",
   "metadata": {},
   "source": [
    "### Pregunta 1\n",
    "\n",
    "__¿Qué cervecería produce la cerveza más fuerte según ABV?__\n",
    "\n",
    "La opción más obvia sería ordenar el `dataframe` por la columna `beer_abv`. Sin embargo dado la gran cantidad de datos sería muy ineficiente. En cambio se iterará sobre el `dataframe` guardando datos de las $10$ cervezas más fuertes: "
   ]
  },
  {
   "cell_type": "code",
   "execution_count": 39,
   "metadata": {},
   "outputs": [
    {
     "data": {
      "text/html": [
       "<div>\n",
       "<style scoped>\n",
       "    .dataframe tbody tr th:only-of-type {\n",
       "        vertical-align: middle;\n",
       "    }\n",
       "\n",
       "    .dataframe tbody tr th {\n",
       "        vertical-align: top;\n",
       "    }\n",
       "\n",
       "    .dataframe thead th {\n",
       "        text-align: right;\n",
       "    }\n",
       "</style>\n",
       "<table border=\"1\" class=\"dataframe\">\n",
       "  <thead>\n",
       "    <tr style=\"text-align: right;\">\n",
       "      <th></th>\n",
       "      <th>beer_abv</th>\n",
       "      <th>brewery_name</th>\n",
       "      <th>beer_style</th>\n",
       "      <th>beer_name</th>\n",
       "      <th>beer_beerid</th>\n",
       "    </tr>\n",
       "  </thead>\n",
       "  <tbody>\n",
       "    <tr>\n",
       "      <th>0</th>\n",
       "      <td>5.0</td>\n",
       "      <td>Vecchio Birraio</td>\n",
       "      <td>Hefeweizen</td>\n",
       "      <td>Sausa Weizen</td>\n",
       "      <td>47986</td>\n",
       "    </tr>\n",
       "    <tr>\n",
       "      <th>1</th>\n",
       "      <td>6.2</td>\n",
       "      <td>Vecchio Birraio</td>\n",
       "      <td>English Strong Ale</td>\n",
       "      <td>Red Moon</td>\n",
       "      <td>48213</td>\n",
       "    </tr>\n",
       "    <tr>\n",
       "      <th>2</th>\n",
       "      <td>6.5</td>\n",
       "      <td>Vecchio Birraio</td>\n",
       "      <td>Foreign / Export Stout</td>\n",
       "      <td>Black Horse Black Beer</td>\n",
       "      <td>48215</td>\n",
       "    </tr>\n",
       "    <tr>\n",
       "      <th>3</th>\n",
       "      <td>5.0</td>\n",
       "      <td>Vecchio Birraio</td>\n",
       "      <td>German Pilsener</td>\n",
       "      <td>Sausa Pils</td>\n",
       "      <td>47969</td>\n",
       "    </tr>\n",
       "    <tr>\n",
       "      <th>4</th>\n",
       "      <td>7.7</td>\n",
       "      <td>Caldera Brewing Company</td>\n",
       "      <td>American Double / Imperial IPA</td>\n",
       "      <td>Cauldron DIPA</td>\n",
       "      <td>64883</td>\n",
       "    </tr>\n",
       "  </tbody>\n",
       "</table>\n",
       "</div>"
      ],
      "text/plain": [
       "   beer_abv             brewery_name                      beer_style  \\\n",
       "0       5.0          Vecchio Birraio                      Hefeweizen   \n",
       "1       6.2          Vecchio Birraio              English Strong Ale   \n",
       "2       6.5          Vecchio Birraio          Foreign / Export Stout   \n",
       "3       5.0          Vecchio Birraio                 German Pilsener   \n",
       "4       7.7  Caldera Brewing Company  American Double / Imperial IPA   \n",
       "\n",
       "                beer_name  beer_beerid  \n",
       "0            Sausa Weizen        47986  \n",
       "1                Red Moon        48213  \n",
       "2  Black Horse Black Beer        48215  \n",
       "3              Sausa Pils        47969  \n",
       "4           Cauldron DIPA        64883  "
      ]
     },
     "execution_count": 39,
     "metadata": {},
     "output_type": "execute_result"
    }
   ],
   "source": [
    "df1 = df[[\"beer_abv\", \"brewery_name\", \"beer_style\", \"beer_name\", \"beer_beerid\"]]\n",
    "df1.head()"
   ]
  },
  {
   "cell_type": "code",
   "execution_count": 40,
   "metadata": {},
   "outputs": [],
   "source": [
    "n = 10 # n cervezas mas fuertes\n",
    "max_abv_data = [(-float(\"inf\"),None,None,None,None)]*n\n",
    "beer_ids = []\n",
    "\n",
    "for index,row in df1.iterrows():\n",
    "    if row[\"beer_abv\"] > max_abv_data[-1][0]:\n",
    "        if row[\"beer_beerid\"] in [x[-1] for x in max_abv_data]:\n",
    "            continue # no contar cervezas repetidas\n",
    "        max_abv_data.append( (row[\"beer_abv\"], row[\"brewery_name\"], row[\"beer_style\"], row[\"beer_name\"], row[\"beer_beerid\"]))\n",
    "        max_abv_data.sort(reverse=True)\n",
    "        max_abv_data = max_abv_data[:n]"
   ]
  },
  {
   "cell_type": "code",
   "execution_count": 42,
   "metadata": {},
   "outputs": [
    {
     "name": "stdout",
     "output_type": "stream",
     "text": [
      "Schorschbräu - Schorschbräu Schorschbock 57% - Eisbock - 57.7\n",
      "Schorschbräu - Schorschbräu Schorschbock 43% - Eisbock - 43.0\n",
      "BrewDog - Sink The Bismarck! - American Double / Imperial IPA - 41.0\n",
      "Schorschbräu - Schorschbräu Schorschbock 40% - Eisbock - 39.44\n",
      "De Struise Brouwers - Black Damnation VI - Messy - American Double / Imperial Stout - 39.0\n",
      "BrewDog - Tactical Nuclear Penguin - American Double / Imperial Stout - 32.0\n",
      "Schorschbräu - Schorschbräu Schorschbock 31% - Eisbock - 30.86\n",
      "Hair of the Dog Brewing Company / Brewery and Tasting Room - Dave - English Barleywine - 29.0\n",
      "BrewDog - Ghost Deer - Belgian Strong Pale Ale - 28.0\n",
      "Boston Beer Company (Samuel Adams) - Samuel Adams Utopias - American Strong Ale - 27.0\n"
     ]
    }
   ],
   "source": [
    "for br_abv,bw_name,br_style,br_name,_ in max_abv_data:\n",
    "    print (\"{0} - {1} - {2} - {3}\".format(bw_name,br_name,br_style,br_abv))"
   ]
  },
  {
   "cell_type": "markdown",
   "metadata": {},
   "source": [
    "De los resultados se ve que la cervecería _Schorschbräu_ produce las dos cervezas más fuertes. Por lo tanto se infiere que es está cervecería la que produce la cerveza más fuerte según ABV en el dataset."
   ]
  },
  {
   "cell_type": "markdown",
   "metadata": {},
   "source": [
    "### Pregunta 2\n",
    "\n",
    "__¿Cuál de los factores (aroma, taste, apperance, palette) es más importante para determinar la calidad general de una cerveza?__"
   ]
  },
  {
   "cell_type": "code",
   "execution_count": 80,
   "metadata": {},
   "outputs": [],
   "source": [
    "from sklearn.linear_model import LinearRegression\n",
    "from sklearn.model_selection import train_test_split"
   ]
  },
  {
   "cell_type": "markdown",
   "metadata": {},
   "source": [
    "La estrategia a seguir será la siguiente: Se supondrá que existe una relación lineal entre las $4$ variables de interés y el `review_overall`. Se entrenarán $4$ regresores lineales (en un respectivo _training set_), en cada uno omitiendo una de las variables. \n",
    "\n",
    "Se calculará el _score_ (coeficiente de determinación) de cada regresor obtenido (sobre un _testing set_). Cuanto más bajo sea el _score_, esto indicará que la variable que estamos omitiendo es importante más importante. Bajo dicho criterio se determinará la importancia de cada variable.\n"
   ]
  },
  {
   "cell_type": "code",
   "execution_count": 81,
   "metadata": {},
   "outputs": [],
   "source": [
    "y = df[\"review_overall\"].as_matrix()\n",
    "X = df.as_matrix(columns=[\"review_aroma\", \"review_appearance\", \"review_palate\", \"review_taste\"])\n",
    "\n",
    "# Se divide training y testing en 75% y 25% respectivamente\n",
    "X_train, X_test, y_train, y_test = train_test_split(X, y, test_size=0.25, random_state=0)"
   ]
  },
  {
   "cell_type": "code",
   "execution_count": 87,
   "metadata": {},
   "outputs": [
    {
     "name": "stdout",
     "output_type": "stream",
     "text": [
      "Coefficient of determination: 0.5444870660229477\n"
     ]
    }
   ],
   "source": [
    "lr1 = LinearRegression()\n",
    "# excluding review_taste\n",
    "lr1.fit(X_train[:,[0,1,2]],y_train)\n",
    "print(\"Coefficient of determination:\", lr1.score(X_test[:,[0,1,2]], y_test))\n"
   ]
  },
  {
   "cell_type": "code",
   "execution_count": 88,
   "metadata": {},
   "outputs": [
    {
     "name": "stdout",
     "output_type": "stream",
     "text": [
      "Coefficient of determination: 0.6285849919483448\n"
     ]
    }
   ],
   "source": [
    "lr2 = LinearRegression()\n",
    "# excluding review_palate\n",
    "lr2.fit(X_train[:,[0,1,3]],y_train)\n",
    "print(\"Coefficient of determination:\", lr2.score(X_test[:,[0,1,3]], y_test))"
   ]
  },
  {
   "cell_type": "code",
   "execution_count": 90,
   "metadata": {},
   "outputs": [
    {
     "name": "stdout",
     "output_type": "stream",
     "text": [
      "Coefficient of determination: 0.6531073161147438\n"
     ]
    }
   ],
   "source": [
    "lr3 = LinearRegression()\n",
    "# excluding review_appearance\n",
    "lr3.fit(X_train[:,[0,2,3]],y_train)\n",
    "print(\"Coefficient of determination:\", lr3.score(X_test[:,[0,2,3]], y_test))"
   ]
  },
  {
   "cell_type": "code",
   "execution_count": 91,
   "metadata": {},
   "outputs": [
    {
     "name": "stdout",
     "output_type": "stream",
     "text": [
      "Coefficient of determination: 0.6527652817980704\n"
     ]
    }
   ],
   "source": [
    "lr4 = LinearRegression()\n",
    "# excluding review_aroma\n",
    "lr4.fit(X_train[:,[1,2,3]],y_train)\n",
    "print(\"Coefficient of determination:\", lr4.score(X_test[:,[1,2,3]], y_test))"
   ]
  },
  {
   "cell_type": "markdown",
   "metadata": {},
   "source": [
    "Los resultados indican que las variables más importantes para determinar la calidad `overall` de la cerveza es (de mayor a menor):\n",
    "1. `review_taste`\n",
    "2. `review_palate`\n",
    "3. `review_aroma`\n",
    "4. `review_appearance`"
   ]
  },
  {
   "cell_type": "markdown",
   "metadata": {},
   "source": [
    "### Pregunta 3\n",
    "\n",
    "__¿Si tuviera que elegir 3 cervezas para recomendar usando sólo estos datos, cuáles elegiría?__\n",
    "\n",
    "En este pregunta, a primer vista, el atributo de mayor importancia es `review_overall`. Sin embargo también es importante fijarse en el tiempo en el que se hizo el review. Como se puede ver en la celda de abajo, cada cerveza puede tener más de un _review_ en distintos tiempos. Para medir la calidad de una cerveza, se tomará en cuenta _su historia_, vale decir se sacará un promedio de los distintos `review_overall` para cada cerveza."
   ]
  },
  {
   "cell_type": "code",
   "execution_count": 137,
   "metadata": {
    "scrolled": true
   },
   "outputs": [
    {
     "data": {
      "text/plain": [
       "90 Minute IPA                                   3290\n",
       "India Pale Ale                                  3130\n",
       "Old Rasputin Russian Imperial Stout             3111\n",
       "Sierra Nevada Celebration Ale                   3000\n",
       "Two Hearted Ale                                 2728\n",
       "Arrogant Bastard Ale                            2704\n",
       "Stone Ruination IPA                             2704\n",
       "Sierra Nevada Pale Ale                          2587\n",
       "Stone IPA (India Pale Ale)                      2575\n",
       "Pliny The Elder                                 2527\n",
       "Founders Breakfast Stout                        2502\n",
       "Pale Ale                                        2500\n",
       "Sierra Nevada Bigfoot Barleywine Style Ale      2492\n",
       "La Fin Du Monde                                 2483\n",
       "60 Minute IPA                                   2475\n",
       "Storm King Stout                                2452\n",
       "Duvel                                           2450\n",
       "Brooklyn Black Chocolate Stout                  2447\n",
       "Bell's Hopslam Ale                              2443\n",
       "Samuel Adams Boston Lager                       2418\n",
       "Stone Imperial Russian Stout                    2329\n",
       "HopDevil Ale                                    2302\n",
       "Chocolate Stout                                 2292\n",
       "Imperial Stout                                  2273\n",
       "Young's Double Chocolate Stout                  2257\n",
       "Dead Guy Ale                                    2234\n",
       "St. Bernardus Abt 12                            2217\n",
       "Guinness Draught                                2210\n",
       "Trappistes Rochefort 10                         2170\n",
       "Ayinger Celebrator Doppelbock                   2070\n",
       "                                                ... \n",
       "Black Turtle Dark                                  1\n",
       "Bottle Wreck Porter                                1\n",
       "Carburetor Rye Doppelbock #58                      1\n",
       "Nelson Bays Exclamator Nelson Doppelbock           1\n",
       "McKinney Eddy Amber Ale                            1\n",
       "Foggy Loggy Lager, Barrel Aged                     1\n",
       "Dult Maerzen                                       1\n",
       "Faerie Bridge                                      1\n",
       "Svaneke Session Pilsner                            1\n",
       "Summer's Gone Saison                               1\n",
       "Oxymore Periple En La Demeure                      1\n",
       "Le Marteau Rouge                                   1\n",
       "Tsar's Crown Brown                                 1\n",
       "Munich Helles Lager                                1\n",
       "Bas Bruns Bob                                      1\n",
       "Otter Creek Oak Aged Imperial India Pale Ale       1\n",
       "Shylock Maibock                                    1\n",
       "Stoney Creek Lager                                 1\n",
       "Indiana Landmarks Wit                              1\n",
       "Cherry Kristall                                    1\n",
       "Gasthaus Pils                                      1\n",
       "Chipotle Wheat                                     1\n",
       "Sin City                                           1\n",
       "Kristallweizen                                     1\n",
       "Seco Stout                                         1\n",
       "Engine Coffee Porter                               1\n",
       "Double Cinder Cone Red                             1\n",
       "Billabong Brew                                     1\n",
       "Shark Attack                                       1\n",
       "Old School Oktoberfest                             1\n",
       "Name: beer_name, Length: 56857, dtype: int64"
      ]
     },
     "execution_count": 137,
     "metadata": {},
     "output_type": "execute_result"
    }
   ],
   "source": [
    "# reviews de cada cervezas\n",
    "df[\"beer_name\"].value_counts()"
   ]
  },
  {
   "cell_type": "markdown",
   "metadata": {},
   "source": [
    "Se extraen y guardan los datos de interés en el diccionario `beer_map`:"
   ]
  },
  {
   "cell_type": "code",
   "execution_count": 138,
   "metadata": {},
   "outputs": [],
   "source": [
    "beer_map = dict()\n",
    "\n",
    "for index,row in df.iterrows():\n",
    "    if row[\"beer_name\"] not in beer_map:\n",
    "        beer_map[row[\"beer_name\"]] = [row[\"review_overall\"]]\n",
    "    else:\n",
    "        beer_map[row[\"beer_name\"]].append( row[\"review_overall\"] )\n",
    "\n",
    "for key,ll in beer_map.items():\n",
    "    beer_map[key] = sum(ll)/len(ll)"
   ]
  },
  {
   "cell_type": "markdown",
   "metadata": {},
   "source": [
    "Se busca en el diccionario anterior las $N$ cervezas con mayor `review_overall`"
   ]
  },
  {
   "cell_type": "code",
   "execution_count": 142,
   "metadata": {},
   "outputs": [],
   "source": [
    "n = 20 # probar aumentando el n\n",
    "top_beers = [ (-float(\"inf\"),None) ]*n\n",
    "\n",
    "for key,overall in beer_map.items():\n",
    "    if overall > top_beers[-1][0]:\n",
    "        top_beers.append( (overall,key) )\n",
    "        top_beers.sort(reverse=True)\n",
    "        top_beers = top_beers[:n]"
   ]
  },
  {
   "cell_type": "code",
   "execution_count": 143,
   "metadata": {},
   "outputs": [
    {
     "data": {
      "text/plain": [
       "[(5.0, 'Triple OOO'),\n",
       " (5.0, 'Suicide By Hops'),\n",
       " (5.0, 'Southern Belle'),\n",
       " (5.0, 'Schwindel Alt'),\n",
       " (5.0, 'Replic Ale (2010)'),\n",
       " (5.0, \"Quinn's Marathon Mild\"),\n",
       " (5.0, 'Quaker Oatmeal Stout'),\n",
       " (5.0, 'Pike Old 89 Nitro Brown'),\n",
       " (5.0, 'One Hop Wonder Version 12'),\n",
       " (5.0, 'Oak Aged Los Diablos Del Paso'),\n",
       " (5.0, 'Limping Mallard'),\n",
       " (5.0, 'Javaspresso Nitro Stout'),\n",
       " (5.0, 'Hops Bandit'),\n",
       " (5.0, \"Gene's American Brown Ale\"),\n",
       " (5.0, 'Final Countdown'),\n",
       " (5.0, 'Cauldron Brew'),\n",
       " (5.0, 'Calapooia Barleywine'),\n",
       " (5.0, 'BourbonDog ESB'),\n",
       " (5.0, 'Bigwood Oak Aged Stout'),\n",
       " (5.0, \"Ackerman's Imperial Double Stout (Winterfest Replicale 2011)\")]"
      ]
     },
     "execution_count": 143,
     "metadata": {},
     "output_type": "execute_result"
    }
   ],
   "source": [
    "top_beers"
   ]
  },
  {
   "cell_type": "markdown",
   "metadata": {},
   "source": [
    "__Problema!__ hay demasiadas cervezas con `review_overall=5` y por lo tanto no fue un buen criterio para hacer una recomendación.\n",
    "\n",
    "Se necesitan agregar más criterios para ordenar (para desempatar!), y para ello se ocuparán los resultados de la pregunta anterior. Vale decir, se determinarán las $N$ mejores cervezas ordenand según:\n",
    "1. `review_overall`\n",
    "2. `review_taste`\n",
    "3. `review_palate`\n",
    "4. `review_aroma`\n",
    "5. `review_appearance`\n",
    "6. Cantidad de reviews.\n",
    "\n",
    "Vale decir, si hay empate en `review_overall` se decide por `review_taste`. Si hay empate en  `review_taste` se decide por `review_palate` y así sucesivamente. \n",
    "\n",
    "Al final, si hay empates en todos estos criterios, se definirá por la cantidad de reviews que tiene cada cerveza. Esto tiene sentido, pues mientras más reviews, más \"robustos\" son los otros indicadores. \n",
    "\n",
    "\n",
    "La implementación es análoga a la anterior:"
   ]
  },
  {
   "cell_type": "code",
   "execution_count": 117,
   "metadata": {},
   "outputs": [],
   "source": [
    "# esto podria hacerse mejor...\n",
    "bm_overall = dict()\n",
    "bm_taste = dict()\n",
    "bm_palate = dict()\n",
    "bm_aroma = dict()\n",
    "bm_appearance = dict()\n",
    "\n",
    "for index,r in df.iterrows():\n",
    "    key = r[\"beer_name\"]\n",
    "    if row[\"beer_name\"] not in beer_map:\n",
    "        bm_overall[key] = [r[\"review_overall\"]]\n",
    "        bm_taste[key] = [r[\"review_taste\"]]\n",
    "        bm_palate[key] = [r[\"review_palate\"]]\n",
    "        bm_aroma[key] = [r[\"review_aroma\"]]\n",
    "        bm_appearance[key] = [r[\"review_appearance\"]]\n",
    "    else:\n",
    "        bm_overall[key].append( r[\"review_overall\"] )\n",
    "        bm_taste[key].append( r[\"review_taste\"] )\n",
    "        bm_palate[key].append( r[\"review_palate\"] )\n",
    "        bm_aroma[key].append( r[\"review_aroma\"] )\n",
    "        bm_appearance[key].append( r[\"review_appearance\"] )\n",
    "        \n",
    "beer_map = dict()        \n",
    "for key in bm_overall.keys():\n",
    "    k = len(bm_overall[key])\n",
    "    beer_map[key] = (sum(bm_overall[key])/k,\n",
    "                     sum(bm_taste[key])/k,\n",
    "                     sum(bm_palate[key])/k,\n",
    "                     sum(bm_aroma[key])/k,\n",
    "                     sum(bm_appearance[key])/k,\n",
    "                     k)"
   ]
  },
  {
   "cell_type": "markdown",
   "metadata": {},
   "source": [
    "Se encuentran las $N$ mejores cervezas bajo estos criterios:"
   ]
  },
  {
   "cell_type": "code",
   "execution_count": 122,
   "metadata": {},
   "outputs": [],
   "source": [
    "n = 20 # probar aumentando el n\n",
    "top_beers = [ (-float(\"inf\"),-float(\"inf\"),-float(\"inf\"),\n",
    "               -float(\"inf\"),-float(\"inf\"),-float(\"inf\"),None) ]*n\n",
    "\n",
    "for key,reviews in beer_map.items():\n",
    "    name = key\n",
    "    if reviews > top_beers[-1][:5]:\n",
    "        # se comparan uno a unos los criterios\n",
    "        top_beers.append( (*reviews,name) )\n",
    "        top_beers.sort(reverse=True)\n",
    "        top_beers = top_beers[:n]"
   ]
  },
  {
   "cell_type": "code",
   "execution_count": 123,
   "metadata": {
    "scrolled": true
   },
   "outputs": [
    {
     "data": {
      "text/plain": [
       "[(5.0, 5.0, 5.0, 5.0, 5.0, 1, \"Zebulon's Peated Porter\"),\n",
       " (5.0, 5.0, 5.0, 5.0, 5.0, 1, 'Zatte'),\n",
       " (5.0, 5.0, 5.0, 5.0, 5.0, 1, \"Young's Bitter\"),\n",
       " (5.0, 5.0, 5.0, 5.0, 5.0, 1, 'Xyauyù Etichetta Rame (Copper)'),\n",
       " (5.0, 5.0, 5.0, 5.0, 5.0, 1, 'Wolnzacher Oktoberfest-Bier'),\n",
       " (5.0, 5.0, 5.0, 5.0, 5.0, 1, 'Witches Brew Doppelbock'),\n",
       " (5.0, 5.0, 5.0, 5.0, 5.0, 1, 'Westmalle Trappist Tripel'),\n",
       " (5.0, 5.0, 5.0, 5.0, 5.0, 1, 'Victory At Sea (Barrel Aged) Imperial Porter'),\n",
       " (5.0, 5.0, 5.0, 5.0, 5.0, 1, 'Triticum Bock'),\n",
       " (5.0, 5.0, 5.0, 5.0, 5.0, 1, 'The Ugly American'),\n",
       " (5.0, 5.0, 5.0, 5.0, 5.0, 1, 'The Crusher'),\n",
       " (5.0, 5.0, 5.0, 5.0, 5.0, 1, 'Tannenzäpfle'),\n",
       " (5.0, 5.0, 5.0, 5.0, 5.0, 1, 'Strathdee Old Barleywine'),\n",
       " (5.0, 5.0, 5.0, 5.0, 5.0, 1, \"Stoudt's Abbey Triple (750ml Release)\"),\n",
       " (5.0, 5.0, 5.0, 5.0, 5.0, 1, 'Stone Brew'),\n",
       " (5.0, 5.0, 5.0, 5.0, 5.0, 1, 'Spanish Peaks White Ale'),\n",
       " (5.0, 5.0, 5.0, 5.0, 5.0, 1, 'Smooth India Pale Ale'),\n",
       " (5.0, 5.0, 5.0, 5.0, 5.0, 1, 'Sim City IPA'),\n",
       " (5.0, 5.0, 5.0, 5.0, 5.0, 1, 'Silent Night'),\n",
       " (5.0, 5.0, 5.0, 5.0, 5.0, 1, 'Schneider Aventinus')]"
      ]
     },
     "execution_count": 123,
     "metadata": {},
     "output_type": "execute_result"
    }
   ],
   "source": [
    "top_beers"
   ]
  },
  {
   "cell_type": "markdown",
   "metadata": {},
   "source": [
    "Como puede verse, pese a haber agregado más criterio sigue habiendo empate. Una posible alternativa para desempatar, sería solo considerar las cervezas que tengas una cantidad `n_min` de reviews (y así no tomar en cuenta las que tienen sólo $1$, que al parecer son muchas). \n",
    "\n",
    "Por ahora, le recomendaría a mi amigo elegir cualquiera $3$ cervezas de esta lista :-)."
   ]
  },
  {
   "cell_type": "markdown",
   "metadata": {},
   "source": [
    "### Pregunta 4\n",
    "\n",
    "__¿Si yo típicamente disfruto una cerveza debido a su aroma y apariencia, qué estilo de cerveza debería probar?__\n",
    "\n",
    "\n",
    "Estrategia: Por cada tipo de cerveza se calculará su promedio en `review_aroma` y `review_apariencia`. Luego se determinará el mejor estilo, tomando en cuenta primero `review_aroma` y luego `review_appearance` (de acuerdo a los resultados de 2.).\n",
    "\n"
   ]
  },
  {
   "cell_type": "code",
   "execution_count": 124,
   "metadata": {},
   "outputs": [
    {
     "data": {
      "text/plain": [
       "American IPA                           117586\n",
       "American Double / Imperial IPA          85977\n",
       "American Pale Ale (APA)                 63469\n",
       "Russian Imperial Stout                  54129\n",
       "American Double / Imperial Stout        50705\n",
       "American Porter                         50477\n",
       "American Amber / Red Ale                45751\n",
       "Belgian Strong Dark Ale                 37743\n",
       "Fruit / Vegetable Beer                  33861\n",
       "American Strong Ale                     31945\n",
       "Belgian Strong Pale Ale                 31490\n",
       "Saison / Farmhouse Ale                  31480\n",
       "American Adjunct Lager                  30749\n",
       "Tripel                                  30328\n",
       "Witbier                                 30140\n",
       "Hefeweizen                              27908\n",
       "American Barleywine                     26728\n",
       "American Brown Ale                      25297\n",
       "American Stout                          24538\n",
       "American Pale Wheat Ale                 24204\n",
       "Märzen / Oktoberfest                    23523\n",
       "English Pale Ale                        23402\n",
       "German Pilsener                         22155\n",
       "Doppelbock                              21699\n",
       "Winter Warmer                           20661\n",
       "Dubbel                                  19983\n",
       "English Brown Ale                       19532\n",
       "Belgian Pale Ale                        19354\n",
       "Oatmeal Stout                           18145\n",
       "Quadrupel (Quad)                        18086\n",
       "                                        ...  \n",
       "Euro Dark Lager                          4657\n",
       "Dortmunder / Export Lager                4440\n",
       "California Common / Steam Beer           4038\n",
       "Rauchbier                                3962\n",
       "American Malt Liquor                     3925\n",
       "Wheatwine                                3714\n",
       "Berliner Weissbier                       3475\n",
       "English Stout                            3018\n",
       "Smoked Beer                              2986\n",
       "Scottish Gruit / Ancient Herbed Ale      2751\n",
       "Euro Strong Lager                        2724\n",
       "Eisbock                                  2663\n",
       "Keller Bier / Zwickel Bier               2591\n",
       "Black & Tan                              2358\n",
       "English Dark Mild Ale                    2314\n",
       "Chile Beer                               2286\n",
       "Kristalweizen                            2204\n",
       "Japanese Rice Lager                      1546\n",
       "American Dark Wheat Ale                  1470\n",
       "Low Alcohol Beer                         1201\n",
       "Lambic - Unblended                       1114\n",
       "Sahti                                    1061\n",
       "Bière de Champagne / Bière Brut          1046\n",
       "Braggot                                  1040\n",
       "English Pale Mild Ale                     700\n",
       "Gose                                      686\n",
       "Faro                                      609\n",
       "Roggenbier                                466\n",
       "Kvass                                     297\n",
       "Happoshu                                  241\n",
       "Name: beer_style, Length: 104, dtype: int64"
      ]
     },
     "execution_count": 124,
     "metadata": {},
     "output_type": "execute_result"
    }
   ],
   "source": [
    "# reviews de cada  cervezas\n",
    "df[\"beer_style\"].value_counts()"
   ]
  },
  {
   "cell_type": "markdown",
   "metadata": {},
   "source": [
    "La implementación es análoga a la del problema 3:"
   ]
  },
  {
   "cell_type": "code",
   "execution_count": 126,
   "metadata": {},
   "outputs": [],
   "source": [
    "sm_aroma = dict()\n",
    "sm_appearance = dict()\n",
    "\n",
    "for i,r in df.iterrows():\n",
    "    key = r[\"beer_style\"]\n",
    "    if key not in sm_aroma:\n",
    "        sm_aroma[key] = [r[\"review_aroma\"]]\n",
    "        sm_appearance[key] = [r[\"review_appearance\"]]\n",
    "    else:\n",
    "        sm_aroma[key].append( r[\"review_aroma\"] )\n",
    "        sm_appearance[key].append( r[\"review_appearance\"] )\n",
    "        \n",
    "style_map = dict()\n",
    "for key in sm_aroma.keys():\n",
    "    style_map[key] = (sum(sm_aroma[key])/len(sm_aroma[key]),\n",
    "                      sum(sm_appearance[key])/len(sm_appearance[key]))"
   ]
  },
  {
   "cell_type": "code",
   "execution_count": 135,
   "metadata": {},
   "outputs": [],
   "source": [
    "n = 5 # probar aumentando el n\n",
    "top_styles = [ (-float(\"inf\"),-float(\"inf\"),None) ]*n\n",
    "\n",
    "for style,reviews in style_map.items():\n",
    "    if reviews > top_styles[-1][:2]:\n",
    "        # se comparan uno a unos los criterios\n",
    "        top_styles.append( (*reviews,style) )\n",
    "        top_styles.sort(reverse=True)\n",
    "        top_styles = top_styles[:n]"
   ]
  },
  {
   "cell_type": "code",
   "execution_count": 136,
   "metadata": {},
   "outputs": [
    {
     "data": {
      "text/plain": [
       "[(4.160664628734839, 4.163632777832561, 'American Double / Imperial Stout'),\n",
       " (4.156778069846038, 3.964513706346226, 'Eisbock'),\n",
       " (4.132533451288289, 4.1179641711821295, 'Quadrupel (Quad)'),\n",
       " (4.126756209958413, 4.0054512757109135, 'American Wild Ale'),\n",
       " (4.118043087971275, 3.9124775583482942, 'Lambic - Unblended')]"
      ]
     },
     "execution_count": 136,
     "metadata": {},
     "output_type": "execute_result"
    }
   ],
   "source": [
    "top_styles"
   ]
  },
  {
   "cell_type": "markdown",
   "metadata": {},
   "source": [
    "Entonces, en base a los resultados, la mejor recomendación sería el estilo: __'American Double / Imperial Stout'__."
   ]
  }
 ],
 "metadata": {
  "kernelspec": {
   "display_name": "Python 3",
   "language": "python",
   "name": "python3"
  },
  "language_info": {
   "codemirror_mode": {
    "name": "ipython",
    "version": 3
   },
   "file_extension": ".py",
   "mimetype": "text/x-python",
   "name": "python",
   "nbconvert_exporter": "python",
   "pygments_lexer": "ipython3",
   "version": "3.6.5"
  }
 },
 "nbformat": 4,
 "nbformat_minor": 2
}
